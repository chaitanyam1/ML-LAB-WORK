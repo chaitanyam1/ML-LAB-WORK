{
  "nbformat": 4,
  "nbformat_minor": 0,
  "metadata": {
    "colab": {
      "name": "ML lab 10.ipynb",
      "provenance": [],
      "collapsed_sections": [],
      "authorship_tag": "ABX9TyMFO6b1bccz6YBmDtiOX0t/",
      "include_colab_link": true
    },
    "kernelspec": {
      "name": "python3",
      "display_name": "Python 3"
    }
  },
  "cells": [
    {
      "cell_type": "markdown",
      "metadata": {
        "id": "view-in-github",
        "colab_type": "text"
      },
      "source": [
        "<a href=\"https://colab.research.google.com/github/chaitanyam1/ML-LAB-WORK/blob/master/ML_lab_10.ipynb\" target=\"_parent\"><img src=\"https://colab.research.google.com/assets/colab-badge.svg\" alt=\"Open In Colab\"/></a>"
      ]
    },
    {
      "cell_type": "code",
      "metadata": {
        "id": "b0Vxs4RaFNJo",
        "colab_type": "code",
        "colab": {}
      },
      "source": [
        "import matplotlib.pyplot as plt\n",
        "from matplotlib import style\n",
        "import numpy as np\n",
        "#from sklearn import preprocessing, cross_validation\n",
        "import pandas as pd\n"
      ],
      "execution_count": 0,
      "outputs": []
    },
    {
      "cell_type": "markdown",
      "metadata": {
        "id": "JRVdwEaQD7y_",
        "colab_type": "text"
      },
      "source": [
        "**Question** **2**"
      ]
    },
    {
      "cell_type": "markdown",
      "metadata": {
        "id": "-t52FA7zEASW",
        "colab_type": "text"
      },
      "source": [
        "Generation of Random data for Mutliple linear regression"
      ]
    },
    {
      "cell_type": "code",
      "metadata": {
        "id": "jRU9JvfGE0ES",
        "colab_type": "code",
        "outputId": "daa2f3b4-1ea2-41f0-f7fa-0e3a9d50c45e",
        "colab": {
          "base_uri": "https://localhost:8080/",
          "height": 583
        }
      },
      "source": [
        "import numpy as np\n",
        "import pandas as pd\n",
        "import scipy\n",
        "import random\n",
        "from scipy.stats import norm\n",
        "random.seed(1)\n",
        "n_features = 4\n",
        "X = []\n",
        "for i in range(n_features):\n",
        "  X_i = scipy.stats.norm.rvs(0, 1, 100)\n",
        "  X.append(X_i)\n",
        "#print(X)\n",
        "eps = scipy.stats.norm.rvs(0, 0.05,100)\n",
        "y = 1 + (0.5 * X[0]) + eps + (0.4 * X[1]) + (0.3 * X[2]) + (0.5 * X[3])\n",
        "data_mlr = {'X0': X[0],'X1':X[1],'X2':X[2],'X3':X[3],'Y': y }\n",
        "mlrdf = pd.DataFrame(data_mlr)\n",
        "print(mlrdf.head())\n",
        "print(mlrdf.tail())\n",
        "print(mlrdf.info())\n",
        "print(mlrdf.describe())"
      ],
      "execution_count": 7,
      "outputs": [
        {
          "output_type": "stream",
          "text": [
            "         X0        X1        X2        X3         Y\n",
            "0 -1.069336 -0.951333 -1.390779  0.205790 -0.214075\n",
            "1 -0.723615 -0.109126  0.296455  0.094432  0.792768\n",
            "2 -0.431207 -0.719126  1.061457 -0.265630  0.717330\n",
            "3  0.235615  0.315925 -2.190793 -0.679635  0.232124\n",
            "4 -1.310578 -0.986769  0.078762  0.028389  0.022819\n",
            "          X0        X1        X2        X3         Y\n",
            "95 -0.059326  0.779440 -0.313398 -0.178615  1.114869\n",
            "96 -0.547268 -1.579254  0.078614 -0.588001 -0.237102\n",
            "97  1.054542  0.782547  2.077024 -1.407069  1.746923\n",
            "98 -0.039729  0.247937  0.435073  0.477731  1.451447\n",
            "99  0.058581 -0.780989  2.234854 -1.303513  0.808680\n",
            "<class 'pandas.core.frame.DataFrame'>\n",
            "RangeIndex: 100 entries, 0 to 99\n",
            "Data columns (total 5 columns):\n",
            " #   Column  Non-Null Count  Dtype  \n",
            "---  ------  --------------  -----  \n",
            " 0   X0      100 non-null    float64\n",
            " 1   X1      100 non-null    float64\n",
            " 2   X2      100 non-null    float64\n",
            " 3   X3      100 non-null    float64\n",
            " 4   Y       100 non-null    float64\n",
            "dtypes: float64(5)\n",
            "memory usage: 4.0 KB\n",
            "None\n",
            "               X0          X1          X2          X3           Y\n",
            "count  100.000000  100.000000  100.000000  100.000000  100.000000\n",
            "mean    -0.128507   -0.077860   -0.056483    0.063189    0.915324\n",
            "std      1.032848    0.973315    1.032571    0.985710    0.856616\n",
            "min     -2.912752   -2.891103   -2.274049   -3.004090   -1.224355\n",
            "25%     -0.936735   -0.726124   -0.742671   -0.477317    0.393633\n",
            "50%     -0.055788   -0.073508    0.045050    0.092534    0.898697\n",
            "75%      0.640501    0.729716    0.652070    0.594945    1.488310\n",
            "max      3.004280    1.724499    2.527194    2.816770    2.766601\n"
          ],
          "name": "stdout"
        }
      ]
    },
    {
      "cell_type": "markdown",
      "metadata": {
        "id": "XyncXXmRELcZ",
        "colab_type": "text"
      },
      "source": [
        "Data generation for logistic regression"
      ]
    },
    {
      "cell_type": "code",
      "metadata": {
        "id": "SDCrXiMbFALw",
        "colab_type": "code",
        "outputId": "82c904c1-43f6-4d57-a7eb-8b5392db4662",
        "colab": {
          "base_uri": "https://localhost:8080/",
          "height": 583
        }
      },
      "source": [
        "n_features = 4\n",
        "X = []\n",
        "for i in range(n_features):\n",
        "  X_i = scipy.stats.norm.rvs(0, 1, 100)\n",
        "  X.append(X_i)\n",
        "\n",
        "a1 = (np.exp(1 + (0.5 * X[0]) + (0.4 * X[1]) + (0.3 * X[2]) + (0.5 * X[3]))/(1 + np.exp(1 + (0.5 * X[0]) + (0.4 * X[1]) + (0.3 * X[2]) + (0.5 * X[3]))))\n",
        "\n",
        "y = []\n",
        "for i in a1:\n",
        "  if (i>=0.5):\n",
        "    y.append(1)\n",
        "  else:\n",
        "    y.append(0)\n",
        "\n",
        "data_lr = {'X0': X[0],'X1':X[1],'X2':X[2],'X3':X[3],'Y': y }\n",
        "lrdf = pd.DataFrame(data_lr)\n",
        "print(lrdf.head())\n",
        "print(lrdf.tail())\n",
        "print(lrdf.info())\n",
        "print(lrdf.describe())\n"
      ],
      "execution_count": 8,
      "outputs": [
        {
          "output_type": "stream",
          "text": [
            "         X0        X1        X2        X3  Y\n",
            "0  0.141498  0.150373  2.104571  2.166023  1\n",
            "1  0.895225  0.269286 -1.087725 -1.725060  1\n",
            "2 -0.529124  1.958292  0.241137  0.635728  1\n",
            "3  0.948025  0.700020 -0.030588 -1.012356  1\n",
            "4 -1.095295  0.615735  1.933787 -1.191877  1\n",
            "          X0        X1        X2        X3  Y\n",
            "95  0.038127  1.789684 -1.411508 -0.359569  1\n",
            "96  0.730680  0.599829 -0.188470 -0.036158  1\n",
            "97 -1.310219  0.319369 -1.119420  0.792801  1\n",
            "98  0.282788 -0.685613 -0.867979  1.786075  1\n",
            "99  0.793763  0.659452 -1.854807  0.768982  1\n",
            "<class 'pandas.core.frame.DataFrame'>\n",
            "RangeIndex: 100 entries, 0 to 99\n",
            "Data columns (total 5 columns):\n",
            " #   Column  Non-Null Count  Dtype  \n",
            "---  ------  --------------  -----  \n",
            " 0   X0      100 non-null    float64\n",
            " 1   X1      100 non-null    float64\n",
            " 2   X2      100 non-null    float64\n",
            " 3   X3      100 non-null    float64\n",
            " 4   Y       100 non-null    int64  \n",
            "dtypes: float64(4), int64(1)\n",
            "memory usage: 4.0 KB\n",
            "None\n",
            "               X0          X1          X2          X3           Y\n",
            "count  100.000000  100.000000  100.000000  100.000000  100.000000\n",
            "mean     0.082983   -0.040723    0.011074   -0.139438    0.880000\n",
            "std      0.856162    0.865326    1.087033    0.999314    0.326599\n",
            "min     -2.374033   -1.975697   -2.071927   -2.470433    0.000000\n",
            "25%     -0.432642   -0.705888   -0.724907   -0.668006    1.000000\n",
            "50%      0.136361    0.071524    0.039644   -0.098377    1.000000\n",
            "75%      0.687297    0.595783    0.627224    0.555533    1.000000\n",
            "max      2.379336    1.958292    2.515437    2.166023    1.000000\n"
          ],
          "name": "stdout"
        }
      ]
    },
    {
      "cell_type": "markdown",
      "metadata": {
        "id": "mT6rOQl9ETi7",
        "colab_type": "text"
      },
      "source": [
        "Data generation for K-means"
      ]
    },
    {
      "cell_type": "code",
      "metadata": {
        "id": "ZugniEfsFFr2",
        "colab_type": "code",
        "outputId": "cb3004cf-f177-47db-a8a2-ef304c21f5bc",
        "colab": {
          "base_uri": "https://localhost:8080/",
          "height": 781
        }
      },
      "source": [
        "X_a= -2 * np.random.rand(100,2)\n",
        "X_b = 1 + 2 * np.random.rand(50,2)\n",
        "X_a[50:100, :] = X_b\n",
        "plt.scatter(X_a[ : , 0], X_a[ :, 1], s = 50)\n",
        "plt.show()\n",
        "data_kmeans = {'X0': X_a[:,0],'X1':X_a[:,1]}\n",
        "kmdf = pd.DataFrame(data_kmeans)\n",
        "print(kmdf.head())\n",
        "print(kmdf.tail())\n",
        "print(kmdf.info())\n",
        "print(kmdf.describe())"
      ],
      "execution_count": 9,
      "outputs": [
        {
          "output_type": "display_data",
          "data": {
            "image/png": "[encoded data removed]",
            "text/plain": [
              "<Figure size 432x288 with 1 Axes>"
            ]
          },
          "metadata": {
            "tags": [],
            "needs_background": "light"
          }
        },
        {
          "output_type": "stream",
          "text": [
            "         X0        X1\n",
            "0 -1.998213 -0.707948\n",
            "1 -0.695006 -0.856255\n",
            "2 -1.218669 -1.908412\n",
            "3 -0.976367 -0.692838\n",
            "4 -1.092268 -1.485779\n",
            "          X0        X1\n",
            "95  2.626060  2.910404\n",
            "96  1.191776  2.506523\n",
            "97  2.466889  1.361326\n",
            "98  1.008060  1.314374\n",
            "99  1.193339  2.698906\n",
            "<class 'pandas.core.frame.DataFrame'>\n",
            "RangeIndex: 100 entries, 0 to 99\n",
            "Data columns (total 2 columns):\n",
            " #   Column  Non-Null Count  Dtype  \n",
            "---  ------  --------------  -----  \n",
            " 0   X0      100 non-null    float64\n",
            " 1   X1      100 non-null    float64\n",
            "dtypes: float64(2)\n",
            "memory usage: 1.7 KB\n",
            "None\n",
            "               X0          X1\n",
            "count  100.000000  100.000000\n",
            "mean     0.490596    0.520166\n",
            "std      1.734713    1.593996\n",
            "min     -1.998213   -1.908412\n",
            "25%     -1.066008   -0.967272\n",
            "50%      0.489311    0.469847\n",
            "75%      2.203338    1.997765\n",
            "max      2.972002    2.998650\n"
          ],
          "name": "stdout"
        }
      ]
    },
    {
      "cell_type": "markdown",
      "metadata": {
        "id": "6yIvruqbEdNg",
        "colab_type": "text"
      },
      "source": [
        "**Question** **3**"
      ]
    },
    {
      "cell_type": "markdown",
      "metadata": {
        "id": "xLKbFU9CEdYL",
        "colab_type": "text"
      },
      "source": [
        "Linear Regression using gradient descent"
      ]
    },
    {
      "cell_type": "code",
      "metadata": {
        "id": "LAgXrvNhFcwD",
        "colab_type": "code",
        "outputId": "98d383ef-002a-4c9f-d2c4-cbbf5a3c62b6",
        "colab": {
          "base_uri": "https://localhost:8080/",
          "height": 33
        }
      },
      "source": [
        "X = mlrdf.iloc[:,0].values\n",
        "#print(X)\n",
        "y = mlrdf.iloc[:,4].values\n",
        "b1 = 0\n",
        "b0 = 0\n",
        "l = 0.001\n",
        "epochs = 100\n",
        " \n",
        "n = float(len(X))\n",
        "for i in range(epochs):\n",
        "  y_p = b1*X + b0\n",
        "  loss = np.sum(y_p - y)**2\n",
        "  d1 = (-2/n) * sum(X * (y - y_p))\n",
        "  d0 = (-2/n) * sum(y - y_p)\n",
        "  b1 = b1 - (l*d1)\n",
        "  b0 = b0 - (l*d0)\n",
        "\n",
        "print(b1,b0)\n"
      ],
      "execution_count": 11,
      "outputs": [
        {
          "output_type": "stream",
          "text": [
            "0.09192938596999284 0.1671968912686631\n"
          ],
          "name": "stdout"
        }
      ]
    },
    {
      "cell_type": "markdown",
      "metadata": {
        "id": "MZxbTuSOEp1j",
        "colab_type": "text"
      },
      "source": [
        "Logistic Regression using gradient descent"
      ]
    },
    {
      "cell_type": "code",
      "metadata": {
        "id": "jU7Mr9tbFg-6",
        "colab_type": "code",
        "outputId": "894ae533-862d-4866-8d41-2c2ee9bb524c",
        "colab": {
          "base_uri": "https://localhost:8080/",
          "height": 183
        }
      },
      "source": [
        "X1 = lrdf.iloc[:,0:4].values\n",
        "y = lrdf.iloc[:,4].values\n",
        "\n",
        "def sigmoid(Z):\n",
        "  return 1 /(1+np.exp(-Z))\n",
        "\n",
        "def loss(y,y_hat):\n",
        "  return -np.mean(y*np.log(y_hat) + (1-y)*(np.log(1-y_hat)))\n",
        "\n",
        "W = np.zeros((4,1))\n",
        "b = np.zeros((1,1))\n",
        "\n",
        "m = len(y)\n",
        "lr = 0.001\n",
        "for epoch in range(1000):\n",
        "  Z = np.matmul(X1,W)+b\n",
        "  A = sigmoid(Z)\n",
        "  logistic_loss = loss(y,A)\n",
        "  dz = A - y\n",
        "  dw = 1/m * np.matmul(X1.T,dz)\n",
        "  db = np.sum(dz)\n",
        "\n",
        "  W = W - lr*dw\n",
        "  b = b - lr*db\n",
        "\n",
        "  if epoch % 100 == 0:\n",
        "    print(logistic_loss)"
      ],
      "execution_count": 16,
      "outputs": [
        {
          "output_type": "stream",
          "text": [
            "0.6931471805599453\n",
            "0.3666308033769872\n",
            "0.3663419087341604\n",
            "0.36605823821226124\n",
            "0.3657797236251914\n",
            "0.3655062971617172\n",
            "0.36523789136166196\n",
            "0.36497443909482863\n",
            "0.3647158735426071\n",
            "0.36446212818221746\n"
          ],
          "name": "stdout"
        }
      ]
    },
    {
      "cell_type": "markdown",
      "metadata": {
        "id": "_QUCLPlVEuuL",
        "colab_type": "text"
      },
      "source": [
        "Linear Regression using L1 Regulrisation"
      ]
    },
    {
      "cell_type": "code",
      "metadata": {
        "id": "Jv1xezoKFl72",
        "colab_type": "code",
        "outputId": "455ca834-8b3a-4231-bebe-79fd871787c8",
        "colab": {
          "base_uri": "https://localhost:8080/",
          "height": 33
        }
      },
      "source": [
        "X = mlrdf.iloc[:,0].values\n",
        "y = mlrdf.iloc[:,4].values\n",
        "b1 = 0\n",
        "b0 = 0\n",
        "l = 0.001\n",
        "epochs = 100\n",
        "lam = 0.1\n",
        " \n",
        "n = float(len(X))\n",
        "for i in range(epochs):\n",
        "  y_p = b1*X + b0\n",
        "  loss = np.sum(y_p - y1)**2 + (lam * b1)\n",
        "  d1 = (-2/n) * sum(X * (y - y_p)) + lam\n",
        "  d0 = (-2/n) * sum(y - y_p)\n",
        "  b1 = b1 - (l*d1)\n",
        "  b0 = b0 - (l*d0)\n",
        "\n",
        "print(b1,b0)\n",
        "\n"
      ],
      "execution_count": 13,
      "outputs": [
        {
          "output_type": "stream",
          "text": [
            "0.08291966556512821 0.16708565784059595\n"
          ],
          "name": "stdout"
        }
      ]
    },
    {
      "cell_type": "markdown",
      "metadata": {
        "id": "zLMDVi72E61C",
        "colab_type": "text"
      },
      "source": [
        "Linear regression using L2 regularisation"
      ]
    },
    {
      "cell_type": "code",
      "metadata": {
        "id": "Jpfw1ZXXFpTh",
        "colab_type": "code",
        "outputId": "e9b727cc-75f9-464e-9dc8-71b8ffc97ba4",
        "colab": {
          "base_uri": "https://localhost:8080/",
          "height": 33
        }
      },
      "source": [
        "X = mlrdf.iloc[:,0].values\n",
        "y = mlrdf.iloc[:,4].values\n",
        "b1 = 0\n",
        "b0 = 0\n",
        "l = 0.001\n",
        "epochs = 100\n",
        "lam = 0.1\n",
        " \n",
        "n = float(len(X))\n",
        "for i in range(epochs):\n",
        "  y_p = b1*X + b0\n",
        "  loss = np.sum(y_p - y1)**2 + ((lam/2) * b1)\n",
        "  d1 = (-2/n) * sum(X * (y - y_p)) + (lam *b1)\n",
        "  d0 = (-2/n) * sum(y - y_p)\n",
        "  b1 = b1 - (l*d1)\n",
        "  b0 = b0 - (l*d0)\n",
        "\n",
        "print(b1,b0)\n",
        "\n"
      ],
      "execution_count": 14,
      "outputs": [
        {
          "output_type": "stream",
          "text": [
            "0.09149442368804636 0.16719329699558128\n"
          ],
          "name": "stdout"
        }
      ]
    },
    {
      "cell_type": "markdown",
      "metadata": {
        "id": "-3gZvGxSFJoD",
        "colab_type": "text"
      },
      "source": [
        "Logistic regression using L1 regularisation"
      ]
    },
    {
      "cell_type": "code",
      "metadata": {
        "id": "aEKk3XIeFs34",
        "colab_type": "code",
        "outputId": "77d809ca-42e8-47bf-c44b-b051dff1fe2c",
        "colab": {
          "base_uri": "https://localhost:8080/",
          "height": 183
        }
      },
      "source": [
        "X1 = lrdf.iloc[:,0:4].values\n",
        "y = lrdf.iloc[:,4].values\n",
        "lam = 0.1\n",
        "def sigmoid(Z):\n",
        "  return 1 /(1+np.exp(-Z))\n",
        "\n",
        "def loss(y,y_hat):\n",
        "  return -np.mean(y*np.log(y_hat) + (1-y)*(np.log(1-y_hat))) + (lam * (np.sum(W)))\n",
        "\n",
        "W = np.zeros((4,1))\n",
        "b = np.zeros((1,1))\n",
        "\n",
        "m = len(y1)\n",
        "lr = 0.001\n",
        "for epoch in range(1000):\n",
        "  Z = np.matmul(X1,W)+b\n",
        "  A = sigmoid(Z)\n",
        "  logistic_loss = loss(y,A)\n",
        "  dz = A - y\n",
        "  dw = 1/m * np.matmul(X1.T,dz) + lam\n",
        "  db = np.sum(dz)\n",
        "\n",
        "  W = W - lr*dw\n",
        "  b = b - lr*db\n",
        "\n",
        "  if epoch % 100 == 0:\n",
        "    print(logistic_loss)\n",
        "\n",
        "\n",
        "\n"
      ],
      "execution_count": 15,
      "outputs": [
        {
          "output_type": "stream",
          "text": [
            "0.6931471805599453\n",
            "-0.03178280325662741\n",
            "-0.426788232792591\n",
            "-0.8183007841045096\n",
            "-1.2063579134371736\n",
            "-1.5909973695750237\n",
            "-1.972257147117062\n",
            "-2.35017544186448\n",
            "-2.7247906082799536\n",
            "-3.0961411189730246\n"
          ],
          "name": "stdout"
        }
      ]
    },
    {
      "cell_type": "markdown",
      "metadata": {
        "id": "ozhNbzapFQzA",
        "colab_type": "text"
      },
      "source": [
        "Logistic regression using L2 regularisation"
      ]
    },
    {
      "cell_type": "code",
      "metadata": {
        "id": "U8Sa5r6QFwTu",
        "colab_type": "code",
        "outputId": "611f77fb-55e8-4161-8958-aa2082dbcd80",
        "colab": {
          "base_uri": "https://localhost:8080/",
          "height": 183
        }
      },
      "source": [
        "X1 = lrdf.iloc[:,0:4].values\n",
        "y = lrdf.iloc[:,4].values\n",
        "lam = 0.1\n",
        "def sigmoid(Z):\n",
        "  return 1 /(1+np.exp(-Z))\n",
        "\n",
        "def loss(y1,y_hat):\n",
        "  return -np.mean(y*np.log(y_hat) + (1-y)*(np.log(1-y_hat))) + (lam * (np.sum(np.square(W))))\n",
        "\n",
        "W = np.zeros((4,1))\n",
        "b = np.zeros((1,1))\n",
        "\n",
        "m = len(y)\n",
        "lr = 0.001\n",
        "for epoch in range(1000):\n",
        "  Z = np.matmul(X1,W)+b\n",
        "  A = sigmoid(Z)\n",
        "  logistic_loss = loss(y,A)\n",
        "  dz = A - y\n",
        "  dw = 1/m * np.matmul(X1.T,dz) + lam * W\n",
        "  db = np.sum(dz)\n",
        "\n",
        "  W = W - lr*dw\n",
        "  b = b - lr*db\n",
        "\n",
        "  if epoch % 100 == 0:\n",
        "    print(logistic_loss)\n",
        "\n",
        "\n",
        "\n"
      ],
      "execution_count": 17,
      "outputs": [
        {
          "output_type": "stream",
          "text": [
            "0.6931471805599453\n",
            "0.3669235649750355\n",
            "0.3674909265408073\n",
            "0.36859499016503666\n",
            "0.37020496636697525\n",
            "0.3722913285785769\n",
            "0.3748257705053223\n",
            "0.37778116481171525\n",
            "0.3811315230715335\n",
            "0.38485195692771734\n"
          ],
          "name": "stdout"
        }
      ]
    },
    {
      "cell_type": "markdown",
      "metadata": {
        "id": "761OTVJ6FYL8",
        "colab_type": "text"
      },
      "source": [
        "K means clustering algorithm"
      ]
    },
    {
      "cell_type": "code",
      "metadata": {
        "id": "KF3iQiGZFzf0",
        "colab_type": "code",
        "colab": {}
      },
      "source": [
        "class K_Means:\n",
        "    def __init__(self, k=2, tol=0.001, max_iter=300):\n",
        "        self.k = k\n",
        "        self.tol = tol\n",
        "        self.max_iter = max_iter\n",
        "\n",
        "    def fit(self,data):\n",
        "\n",
        "        self.centroids = {}\n",
        "\n",
        "        for i in range(self.k):\n",
        "            self.centroids[i] = data[i]\n",
        "\n",
        "        for i in range(self.max_iter):\n",
        "            self.classifications = {}\n",
        "\n",
        "            for i in range(self.k):\n",
        "                self.classifications[i] = []\n",
        "\n",
        "            for featureset in X:\n",
        "                distances = [np.linalg.norm(featureset-self.centroids[centroid]) for centroid in self.centroids]\n",
        "                classification = distances.index(min(distances))\n",
        "                self.classifications[classification].append(featureset)\n",
        "\n",
        "            prev_centroids = dict(self.centroids)\n",
        "\n",
        "            for classification in self.classifications:\n",
        "                self.centroids[classification] = np.average(self.classifications[classification],axis=0)\n",
        "\n",
        "            optimized = True\n",
        "\n",
        "            for c in self.centroids:\n",
        "                original_centroid = prev_centroids[c]\n",
        "                current_centroid = self.centroids[c]\n",
        "                if np.sum((current_centroid-original_centroid)/original_centroid*100.0) > self.tol:\n",
        "                    print(np.sum((current_centroid-original_centroid)/original_centroid*100.0))\n",
        "                    optimized = False\n",
        "\n",
        "            if optimized:\n",
        "                break\n",
        "\n",
        "    def predict(self,data):\n",
        "        distances = [np.linalg.norm(data-self.centroids[centroid]) for centroid in self.centroids]\n",
        "        classification = distances.index(min(distances))\n",
        "        return classification\n",
        "        \n",
        "colors = 10*[\"g\",\"r\",\"c\",\"b\",\"k\"]"
      ],
      "execution_count": 0,
      "outputs": []
    },
    {
      "cell_type": "code",
      "metadata": {
        "id": "PStCKV5zF4NF",
        "colab_type": "code",
        "outputId": "47240a9a-c404-45f7-989e-aa3004f3f25d",
        "colab": {
          "base_uri": "https://localhost:8080/",
          "height": 265
        }
      },
      "source": [
        "X = kmdf.iloc[:,0:2].values\n",
        "clf = K_Means()\n",
        "clf.fit(X)\n",
        "\n",
        "for centroid in clf.centroids:\n",
        "    plt.scatter(clf.centroids[centroid][0], clf.centroids[centroid][1],\n",
        "                marker=\"o\", color=\"k\", s=150, linewidths=5)\n",
        "\n",
        "for classification in clf.classifications:\n",
        "    color = colors[classification]\n",
        "    for featureset in clf.classifications[classification]:\n",
        "        plt.scatter(featureset[0], featureset[1], marker=\"x\", color=color, s=150, linewidths=5)\n",
        "        \n",
        "        "
      ],
      "execution_count": 0,
      "outputs": [
        {
          "output_type": "display_data",
          "data": {
            "image/png": "[encoded data removed]",
            "text/plain": [
              "<Figure size 432x288 with 1 Axes>"
            ]
          },
          "metadata": {
            "tags": [],
            "needs_background": "light"
          }
        }
      ]
    },
    {
      "cell_type": "markdown",
      "metadata": {
        "id": "8qr1Azy0Fdsw",
        "colab_type": "text"
      },
      "source": [
        "**Question** **4**"
      ]
    },
    {
      "cell_type": "markdown",
      "metadata": {
        "id": "UrzqzNpWFful",
        "colab_type": "text"
      },
      "source": [
        "Linear Regression using OOPS"
      ]
    },
    {
      "cell_type": "code",
      "metadata": {
        "id": "PNkDve9wF-yS",
        "colab_type": "code",
        "colab": {}
      },
      "source": [
        "import numpy as np\n",
        "\n",
        "class LinearRegressionModel():\n",
        "\n",
        "    def __init__(self, dataset, learning_rate, num_iterations):\n",
        "        self.dataset = np.array(dataset)\n",
        "        self.b = 0  \n",
        "        self.m = 0  \n",
        "        self.learning_rate = learning_rate\n",
        "        self.num_iterations = num_iterations\n",
        "        self.M = len(self.dataset)\n",
        "        self.total_error = 0\n",
        "\n",
        "    def apply_gradient_descent(self):\n",
        "        for i in range(self.num_iterations):\n",
        "            self.do_gradient_step()\n",
        "\n",
        "    def do_gradient_step(self):\n",
        "        b_summation = 0\n",
        "        m_summation = 0\n",
        "        for i in range(self.M):\n",
        "            x_value = self.dataset[i, 0]\n",
        "            y_value = self.dataset[i, 1]\n",
        "            b_summation += (((self.m * x_value) + self.b) - y_value) \n",
        "            m_summation += (((self.m * x_value) + self.b) - y_value) * x_value\n",
        "        self.b = self.b - (self.learning_rate * (1/self.M) * b_summation)\n",
        "        self.m = self.m - (self.learning_rate * (1/self.M) * m_summation)\n",
        "      \n",
        "    def compute_error(self):\n",
        "        for i in range(self.M):\n",
        "            x_value = self.dataset[i, 0]\n",
        "            y_value = self.dataset[i, 1]\n",
        "            self.total_error += ((self.m * x_value) + self.b) - y_value\n",
        "        return self.total_error\n",
        "\n",
        "    def __str__(self):\n",
        "        return \"Results: b: {}, m: {}, Final Total error: {}\".format(round(self.b, 2), round(self.m, 2), round(self.compute_error(), 2))\n",
        "\n",
        "    def get_prediction_based_on(self, x):\n",
        "        return round(float((self.m * x) + self.b), 2) # Type: Numpy float.\n",
        "\n",
        "def main():\n",
        "    school_dataset = np.genfromtxt(DATASET_PATH, delimiter=\",\")\n",
        "    lr = LinearRegressionModel(school_dataset, 0.0001, 1000)\n",
        "    lr.apply_gradient_descent()\n",
        "    hours = [10, 20, 30, 40, 50, 60, 70, 80, 90, 100]\n",
        "    for hour in hours:\n",
        "        print(\"Studied {} hours and got {} points.\".format(hour, lr.get_prediction_based_on(hour)))\n",
        "    print(lr)\n",
        "\n",
        "if __name__ == \"__main__\": main()"
      ],
      "execution_count": 0,
      "outputs": []
    },
    {
      "cell_type": "markdown",
      "metadata": {
        "id": "3E3sqn-6FoIe",
        "colab_type": "text"
      },
      "source": [
        "Logistic Regression using OOPS"
      ]
    },
    {
      "cell_type": "code",
      "metadata": {
        "id": "ewDV2yxCFudG",
        "colab_type": "code",
        "colab": {}
      },
      "source": [
        "class LogisticRegression:\n",
        "  def __init__(self, learning_rate, num_iters, fit_intercept = True, verbose = False):\n",
        "    self.learning_rate = learning_rate\n",
        "    self.num_iters = num_iters\n",
        "    self.fit_intercept = fit_intercept\n",
        "    self.verbose = verbose\n",
        "  def __add_intercept(self, X):\n",
        "    intercept = np.ones((X.shape[0],1))\n",
        "    return np.concatenate((intercept,X),axis=1)\n",
        "  def __sigmoid(self,z):\n",
        "    return 1/(1+np.exp(-z))\n",
        "  def __loss(self, h, y):\n",
        "    return (-y * np.log(h) - (1-y) * np.log(1-h)).mean()\n",
        "  \n",
        "  def fit(self,X,y):\n",
        "    if self.fit_intercept:\n",
        "      X = self.__add_intercept(X)\n",
        "    self.theta = np.zeros(X.shape[1])\n",
        "    \n",
        "    for i in range(self.num_iters):\n",
        "      z = np.dot(X,self.theta)\n",
        "      h = self.__sigmoid(z)\n",
        "      gradient = np.dot(X.T,(h-y))/y.size\n",
        "      \n",
        "      self.theta -= self.learning_rate * gradient\n",
        "      \n",
        "      z = np.dot(X,self.theta)\n",
        "      h = self.__sigmoid(z)\n",
        "      loss = self.__loss(h,y)\n",
        "      \n",
        "      if self.verbose == True and i % 1000 == 0:\n",
        "        print(f'Loss: {loss}\\t')\n",
        "  def predict_probability(self,X):\n",
        "    if self.fit_intercept:\n",
        "      X = self.__add_intercept(X)\n",
        "    return self.__sigmoid(np.dot(X,self.theta))\n",
        "  def predict(self,X):\n",
        "    return (self.predict_probability(X).round())"
      ],
      "execution_count": 0,
      "outputs": []
    },
    {
      "cell_type": "markdown",
      "metadata": {
        "id": "Zjtp6HBDFzfO",
        "colab_type": "text"
      },
      "source": [
        "K-means clustering using OOPS"
      ]
    },
    {
      "cell_type": "code",
      "metadata": {
        "id": "fJPOWQtMF6Ml",
        "colab_type": "code",
        "colab": {}
      },
      "source": [
        "class K_Means:\n",
        "    def __init__(self, k=2, tol=0.001, max_iter=300):\n",
        "        self.k = k\n",
        "        self.tol = tol\n",
        "        self.max_iter = max_iter\n",
        "\n",
        "    def fit(self,data):\n",
        "\n",
        "        self.centroids = {}\n",
        "\n",
        "        for i in range(self.k):\n",
        "            self.centroids[i] = data[i]\n",
        "\n",
        "        for i in range(self.max_iter):\n",
        "            self.classifications = {}\n",
        "\n",
        "            for i in range(self.k):\n",
        "                self.classifications[i] = []\n",
        "\n",
        "            for featureset in X:\n",
        "                distances = [np.linalg.norm(featureset-self.centroids[centroid]) for centroid in self.centroids]\n",
        "                classification = distances.index(min(distances))\n",
        "                self.classifications[classification].append(featureset)\n",
        "\n",
        "            prev_centroids = dict(self.centroids)\n",
        "\n",
        "            for classification in self.classifications:\n",
        "                self.centroids[classification] = np.average(self.classifications[classification],axis=0)\n",
        "\n",
        "            optimized = True\n",
        "\n",
        "            for c in self.centroids:\n",
        "                original_centroid = prev_centroids[c]\n",
        "                current_centroid = self.centroids[c]\n",
        "                if np.sum((current_centroid-original_centroid)/original_centroid*100.0) > self.tol:\n",
        "                    print(np.sum((current_centroid-original_centroid)/original_centroid*100.0))\n",
        "                    optimized = False\n",
        "\n",
        "            if optimized:\n",
        "                break\n",
        "\n",
        "    def predict(self,data):\n",
        "        distances = [np.linalg.norm(data-self.centroids[centroid]) for centroid in self.centroids]\n",
        "        classification = distances.index(min(distances))\n",
        "        return classification\n",
        "        \n",
        "colors = 10*[\"g\",\"r\",\"c\",\"b\",\"k\"]"
      ],
      "execution_count": 0,
      "outputs": []
    },
    {
      "cell_type": "markdown",
      "metadata": {
        "id": "yN0_15Ic8jRv",
        "colab_type": "text"
      },
      "source": [
        "**Question** **1**"
      ]
    },
    {
      "cell_type": "code",
      "metadata": {
        "id": "AyPZXiePUfl5",
        "colab_type": "code",
        "outputId": "9e86ce10-86c4-4bc1-bdcc-aac415080ccd",
        "colab": {
          "base_uri": "https://localhost:8080/",
          "height": 83
        }
      },
      "source": [
        "import numpy as np\n",
        "\n",
        "def roll_dice(prob=None):\n",
        "    if not prob:\n",
        "        return np.random.choice(a=[1,2,3,4,5,6])\n",
        "    else:\n",
        "        return np.random.choice(a=[1,2,3,4,5,6],p=prob)\n",
        "           \n",
        "def iterate(n=1000,prob=None):\n",
        "    reached=0\n",
        "    for _ in range(n):\n",
        "        throws=250\n",
        "        pos=0\n",
        "        while throws:\n",
        "            throws-=1\n",
        "            step=roll_dice(prob)\n",
        "            if pos>60:\n",
        "                reached+=1\n",
        "                break\n",
        "                \n",
        "            if step in {1,2}:\n",
        "                pos-=1\n",
        "            elif step in {3,4,5}:\n",
        "                pos+=1\n",
        "            else:\n",
        "                step=roll_dice(prob)\n",
        "                pos+=step\n",
        "    print(reached/n)\n",
        "iterate() #without probability weights in 1000 iterations\n",
        "iterate(prob=[0.2,0.3,0.2,0.1,0.1,0.1]) #with probability wieghts in 1000 iterations\n",
        "\n",
        "iterate(1000)\n",
        "iterate(1000,[0.2,0.3,0.2,0.1,0.1,0.1])"
      ],
      "execution_count": 19,
      "outputs": [
        {
          "output_type": "stream",
          "text": [
            "1.0\n",
            "0.324\n",
            "1.0\n",
            "0.315\n"
          ],
          "name": "stdout"
        }
      ]
    }
  ]
}